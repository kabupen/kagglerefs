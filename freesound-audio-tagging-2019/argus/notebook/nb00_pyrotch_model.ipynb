{
 "cells": [
  {
   "cell_type": "markdown",
   "id": "3341b7f6-7782-4401-ad54-c9f517a35e2d",
   "metadata": {},
   "source": [
    "# PyTorch tutorial\n",
    "\n",
    "簡単な例を以下に示す（モデルは https://pytorch.org/tutorials/beginner/blitz/neural_networks_tutorial.html 参照）。\n"
   ]
  },
  {
   "cell_type": "code",
   "execution_count": 12,
   "id": "56b4c40c-82bf-4641-870d-31445f0dae12",
   "metadata": {},
   "outputs": [
    {
     "data": {
      "text/plain": [
       "Net(\n",
       "  (conv1): Conv2d(1, 6, kernel_size=(5, 5), stride=(1, 1))\n",
       "  (conv2): Conv2d(6, 16, kernel_size=(5, 5), stride=(1, 1))\n",
       "  (fc1): Linear(in_features=400, out_features=120, bias=True)\n",
       "  (fc2): Linear(in_features=120, out_features=84, bias=True)\n",
       "  (fc3): Linear(in_features=84, out_features=10, bias=True)\n",
       ")"
      ]
     },
     "execution_count": 12,
     "metadata": {},
     "output_type": "execute_result"
    }
   ],
   "source": [
    "import torch\n",
    "import torch.nn as nn\n",
    "import torch.nn.functional as F\n",
    "\n",
    "\n",
    "class Net(nn.Module):\n",
    "\n",
    "    def __init__(self):\n",
    "        super(Net, self).__init__()\n",
    "        # 1 input image channel, 6 output channels, 5x5 square convolution\n",
    "        # kernel\n",
    "        self.conv1 = nn.Conv2d(1, 6, 5)\n",
    "        self.conv2 = nn.Conv2d(6, 16, 5)\n",
    "        # an affine operation: y = Wx + b\n",
    "        self.fc1 = nn.Linear(16 * 5 * 5, 120)  # 5*5 from image dimension\n",
    "        self.fc2 = nn.Linear(120, 84)\n",
    "        self.fc3 = nn.Linear(84, 10)\n",
    "\n",
    "    def forward(self, x):\n",
    "        # Max pooling over a (2, 2) window\n",
    "        x = F.max_pool2d(F.relu(self.conv1(x)), (2, 2))\n",
    "        # If the size is a square, you can specify with a single number\n",
    "        x = F.max_pool2d(F.relu(self.conv2(x)), 2)\n",
    "        x = torch.flatten(x, 1) # flatten all dimensions except the batch dimension\n",
    "        x = F.relu(self.fc1(x))\n",
    "        x = F.relu(self.fc2(x))\n",
    "        x = self.fc3(x)\n",
    "        return x\n",
    "\n",
    "\n",
    "net = Net()\n",
    "net"
   ]
  },
  {
   "cell_type": "markdown",
   "id": "4b680d72-f0b8-4e33-89c3-96b73bfa7492",
   "metadata": {},
   "source": [
    "`Module`から派生させたクラスには、レイヤーとforward propの順番（＝モデルをどう組み立てるか）を定義する。back prop （=つまりどう微分して逆伝搬するか）は`autograd`を使用することで自動的に定義されるとのこと。学習できるパラメーターは `parameters()`で見ることができる。"
   ]
  },
  {
   "cell_type": "code",
   "execution_count": 25,
   "id": "6db6d829-0399-4456-b521-1e41158c9ba2",
   "metadata": {},
   "outputs": [
    {
     "name": "stdout",
     "output_type": "stream",
     "text": [
      "10\n",
      "torch.Size([6, 1, 5, 5])\n",
      "torch.Size([6])\n"
     ]
    }
   ],
   "source": [
    "params = list(net.parameters())\n",
    "print(len(params))\n",
    "print(params[0].size())  # conv1's .weight\n",
    "print(params[1].size())  # conv2's .weight"
   ]
  },
  {
   "cell_type": "markdown",
   "id": "fc3e8230-db03-4bf7-bad7-005014925288",
   "metadata": {},
   "source": [
    "実際に、乱数を入力して順伝播の後に出力される値を確認する。このチュートリアルで想定している画像の入力サイズは 32×32とのこと（他の、例えば MNIST を使ってみたいならリサイズが必要）。\n",
    "\n",
    "Conv2dは `in_channels, out_channels, kernel_size,...`を最初３つの引数にとり、ここではそれぞれ、1, 6, 5 と指定されたモデルを考えている。それに合わせるために、$1\\times 1\\times 32\\times 32$ 次元のデータ（sample, channel, x, y) の乱数を作成する必要があることに留意する。\n",
    "\n",
    "また、PyTorch全ての関数について、ミニバッチ単位での入力を想定している。そのため、single sample （バッチとかの概念がない）はそのまま入力することができない。もし single sample を入力したい場合は、ダミーの batch dimension を入れておく必要があり、`input.squeeze(0)`でできるとのこと。"
   ]
  },
  {
   "cell_type": "code",
   "execution_count": 28,
   "id": "4148074a-1b23-495a-9116-9ba95196f33d",
   "metadata": {},
   "outputs": [
    {
     "name": "stdout",
     "output_type": "stream",
     "text": [
      "tensor([[ 0.1032, -0.1513,  0.0104,  0.1297, -0.1420,  0.0382,  0.0640,  0.0999,\n",
      "         -0.0293, -0.0775]], grad_fn=<AddmmBackward>)\n"
     ]
    }
   ],
   "source": [
    "input = torch.randn(1, 1, 32, 32)\n",
    "out = net(input)\n",
    "print(out)"
   ]
  },
  {
   "cell_type": "markdown",
   "id": "03cd7bda-4ec3-4891-af06-a8ba5da24e5f",
   "metadata": {},
   "source": [
    "ちなみに（もちろん）、サンプル数を変えると出力の形式も変わる（サンプル毎に計算が行われる様子が確認できる）ことも見ておく。"
   ]
  },
  {
   "cell_type": "code",
   "execution_count": 30,
   "id": "b3598787-db06-4faa-8f8d-6e93db12d200",
   "metadata": {},
   "outputs": [
    {
     "name": "stdout",
     "output_type": "stream",
     "text": [
      "tensor([[ 0.0617, -0.1376,  0.0362,  0.1403, -0.1194,  0.0355,  0.0726,  0.0576,\n",
      "          0.0041, -0.0669],\n",
      "        [ 0.0824, -0.1423,  0.0140,  0.1287, -0.1344,  0.0554,  0.0512,  0.0616,\n",
      "         -0.0087, -0.0911]], grad_fn=<AddmmBackward>)\n"
     ]
    }
   ],
   "source": [
    "input = torch.randn(2, 1, 32, 32)\n",
    "out = net(input)\n",
    "print(out)"
   ]
  },
  {
   "cell_type": "markdown",
   "id": "99c170e7-faaf-4d78-91c2-329fc3ffbae3",
   "metadata": {},
   "source": [
    "勾配バッファを初期化して（全てのパラメータに対する勾配を0にする）、適当な乱数を逆伝播する（=初期化）。"
   ]
  },
  {
   "cell_type": "code",
   "execution_count": 18,
   "id": "03f5848b-0bfd-40c5-ac2b-bc81cfea8bca",
   "metadata": {},
   "outputs": [],
   "source": [
    "net.zero_grad()\n",
    "out.backward(torch.randn(1, 10))"
   ]
  },
  {
   "cell_type": "markdown",
   "id": "ef0bbb84-ff87-4f3b-b87c-ceeb4e09ab28",
   "metadata": {},
   "source": [
    "## 損失関数の計算"
   ]
  },
  {
   "cell_type": "code",
   "execution_count": 38,
   "id": "8282ed50-dcfb-4a8f-8ac0-21df6694df1a",
   "metadata": {},
   "outputs": [
    {
     "name": "stdout",
     "output_type": "stream",
     "text": [
      "tensor([[ 0.0681, -0.1341,  0.0408,  0.1429, -0.1310,  0.0323,  0.0555,  0.0797,\n",
      "         -0.0390, -0.0598]], grad_fn=<AddmmBackward>)\n",
      "tensor([[ 1.2042, -1.2118,  0.4264,  0.6443,  0.5190,  1.1912, -1.4897, -1.4398,\n",
      "          1.1242,  0.9439]])\n",
      "tensor(1.1675, grad_fn=<MseLossBackward>)\n"
     ]
    }
   ],
   "source": [
    "input = torch.randn(1, 1, 32, 32)\n",
    "output = net(input)\n",
    "print(output)\n",
    "\n",
    "target = torch.randn(10)  # a dummy target, for example\n",
    "target = target.view(1, -1)  # make it the same shape as output (1×10)\n",
    "print(target)\n",
    "\n",
    "criterion = nn.MSELoss()\n",
    "\n",
    "loss = criterion(output, target)\n",
    "print(loss)"
   ]
  },
  {
   "cell_type": "code",
   "execution_count": 39,
   "id": "5c5ad39e-6665-4610-8882-f700c60c9b8f",
   "metadata": {},
   "outputs": [
    {
     "name": "stdout",
     "output_type": "stream",
     "text": [
      "<class 'torch.Tensor'>\n",
      "<MseLossBackward object at 0x1308ca2b0>\n",
      "<AddmmBackward object at 0x1308ca240>\n",
      "<AccumulateGrad object at 0x1308ca2b0>\n"
     ]
    }
   ],
   "source": [
    "print(type(loss))\n",
    "print(loss.grad_fn)  # MSELoss\n",
    "print(loss.grad_fn.next_functions[0][0])  # Linear\n",
    "print(loss.grad_fn.next_functions[0][0].next_functions[0][0])  # ReLU"
   ]
  },
  {
   "cell_type": "markdown",
   "id": "4b401b46-2ac3-4eae-a9d3-85ae5074aec9",
   "metadata": {},
   "source": [
    "ここまでの流れは以下のようになっている：\n",
    "\n",
    "```python\n",
    "input -> conv2d -> relu -> maxpool2d -> conv2d -> relu -> maxpool2d\n",
    "      -> flatten -> linear -> relu -> linear -> relu -> linear\n",
    "      -> MSELoss\n",
    "      -> loss\n",
    "```"
   ]
  },
  {
   "cell_type": "markdown",
   "id": "44717301-0e50-4571-a3d8-7d6c4ac4f37a",
   "metadata": {},
   "source": [
    "## 逆伝播\n",
    "\n",
    "backprop するためには、`backward`を呼ぶだけで良い。呼ぶ前後での値を出力している。"
   ]
  },
  {
   "cell_type": "code",
   "execution_count": 21,
   "id": "cdcdb4dd-961c-49a6-a7de-ef037c04a7ff",
   "metadata": {},
   "outputs": [
    {
     "name": "stdout",
     "output_type": "stream",
     "text": [
      "conv1.bias.grad before backward\n",
      "tensor([0., 0., 0., 0., 0., 0.])\n",
      "conv1.bias.grad after backward\n",
      "tensor([ 0.0139, -0.0019,  0.0056,  0.0240,  0.0207, -0.0270])\n"
     ]
    }
   ],
   "source": [
    "net.zero_grad()     # zeroes the gradient buffers of all parameters\n",
    "\n",
    "print('conv1.bias.grad before backward')\n",
    "print(net.conv1.bias.grad)\n",
    "\n",
    "loss.backward()\n",
    "\n",
    "print('conv1.bias.grad after backward')\n",
    "print(net.conv1.bias.grad)"
   ]
  },
  {
   "cell_type": "markdown",
   "id": "eb79b392-84fc-490f-8609-9fff665ca5b1",
   "metadata": {},
   "source": [
    "## 重みの更新\n",
    "\n",
    "以下のように（通常のように）重みは更新される（以下の手法は確率的勾配降下法、SGDと呼ばれるものである）。\n",
    "\n",
    "$$\n",
    "w^\\prime = w - \\eta \\times \\nabla E\n",
    "$$\n",
    "\n",
    "SGDは次のコードで実行される。"
   ]
  },
  {
   "cell_type": "code",
   "execution_count": 22,
   "id": "3b9869f9-144a-4b93-b79c-6f771f760df0",
   "metadata": {},
   "outputs": [],
   "source": [
    "learning_rate = 0.01\n",
    "for f in net.parameters():\n",
    "    f.data.sub_(f.grad.data * learning_rate)"
   ]
  },
  {
   "cell_type": "code",
   "execution_count": 48,
   "id": "a1547cb1-0a60-4e7b-b01a-0f8d145f2ab4",
   "metadata": {},
   "outputs": [
    {
     "name": "stdout",
     "output_type": "stream",
     "text": [
      "<generator object Module.parameters at 0x1308bf750>\n",
      "<class 'torch.nn.parameter.Parameter'>\n",
      "Parameter containing:\n",
      "tensor([ 0.0643, -0.1075,  0.0466,  0.0800, -0.1107,  0.0280,  0.0232, -0.0279,\n",
      "         0.0584, -0.0922], requires_grad=True)\n"
     ]
    }
   ],
   "source": [
    "print(net.parameters())\n",
    "print(type(f))\n",
    "print(f)"
   ]
  },
  {
   "cell_type": "markdown",
   "id": "60fdbff8-76d3-4b5e-ad3f-819d8c242a98",
   "metadata": {},
   "source": [
    "その他の手法での更新（Nesterov-SGD, Adam, RMSProp, etc.）は以下の様に実行できる。"
   ]
  },
  {
   "cell_type": "code",
   "execution_count": 23,
   "id": "2922c001-470f-4236-8a31-4ce1a36b21a7",
   "metadata": {},
   "outputs": [],
   "source": [
    "import torch.optim as optim\n",
    "\n",
    "# create your optimizer\n",
    "optimizer = optim.SGD(net.parameters(), lr=0.01)\n",
    "\n",
    "# in your training loop:\n",
    "optimizer.zero_grad()   # zero the gradient buffers\n",
    "output = net(input)\n",
    "loss = criterion(output, target)\n",
    "loss.backward()\n",
    "optimizer.step()    # Does the update"
   ]
  }
 ],
 "metadata": {
  "kernelspec": {
   "display_name": "Python 3",
   "language": "python",
   "name": "python3"
  },
  "language_info": {
   "codemirror_mode": {
    "name": "ipython",
    "version": 3
   },
   "file_extension": ".py",
   "mimetype": "text/x-python",
   "name": "python",
   "nbconvert_exporter": "python",
   "pygments_lexer": "ipython3",
   "version": "3.7.3"
  }
 },
 "nbformat": 4,
 "nbformat_minor": 5
}
