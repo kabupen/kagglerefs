{
 "cells": [
  {
   "cell_type": "code",
   "execution_count": 1,
   "id": "7338537c-5094-40c1-b246-ce49f405735c",
   "metadata": {},
   "outputs": [],
   "source": [
    "import argus"
   ]
  },
  {
   "cell_type": "code",
   "execution_count": null,
   "id": "fb37f2ad-dc99-49ae-b784-2530ccb3d64f",
   "metadata": {},
   "outputs": [],
   "source": []
  }
 ],
 "metadata": {
  "kernelspec": {
   "display_name": "Python 3",
   "language": "python",
   "name": "python3"
  },
  "language_info": {
   "codemirror_mode": {
    "name": "ipython",
    "version": 3
   },
   "file_extension": ".py",
   "mimetype": "text/x-python",
   "name": "python",
   "nbconvert_exporter": "python",
   "pygments_lexer": "ipython3",
   "version": "3.7.3"
  }
 },
 "nbformat": 4,
 "nbformat_minor": 5
}
